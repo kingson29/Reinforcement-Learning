{
 "cells": [
  {
   "cell_type": "code",
   "execution_count": 1,
   "metadata": {},
   "outputs": [
    {
     "name": "stderr",
     "output_type": "stream",
     "text": [
      "Using TensorFlow backend.\n"
     ]
    }
   ],
   "source": [
    "import gym\n",
    "import numpy as np\n",
    "from collections import deque\n",
    "from keras import Sequential\n",
    "from keras.layers import Dense\n",
    "from keras.optimizers import Adam\n",
    "import random"
   ]
  },
  {
   "cell_type": "code",
   "execution_count": 2,
   "metadata": {},
   "outputs": [],
   "source": [
    "env = gym.make(\"CartPole-v1\")\n"
   ]
  },
  {
   "cell_type": "code",
   "execution_count": 3,
   "metadata": {},
   "outputs": [
    {
     "name": "stdout",
     "output_type": "stream",
     "text": [
      "Understanding the Environment\n",
      "\n",
      "\n",
      "Action Space:  Discrete(2)\n",
      "State Space:  Box(4,)\n",
      "State Example:  [ 0.00383474  0.04873618  0.02552966 -0.02176892]\n",
      "Cycle tuple Example:  (array([ 0.00480946, -0.14674241,  0.02509428,  0.27885833]), 1.0, False, {})\n"
     ]
    }
   ],
   "source": [
    "print(\"Understanding the Environment\")\n",
    "print(\"\\n\")\n",
    "print(\"Action Space: \",env.action_space)\n",
    "print(\"State Space: \",env.observation_space)\n",
    "print(\"State Example: \",env.reset())\n",
    "print(\"Cycle tuple Example: \",env.step(0))"
   ]
  },
  {
   "cell_type": "markdown",
   "metadata": {},
   "source": [
    "Bellman Equation:\n",
    "\n",
    "The expected reward for being in a particular state s and following action prescribed by some policy is eqaul:"
   ]
  },
  {
   "attachments": {
    "image.png": {
     "image/png": "[encoded data removed]"
    }
   },
   "cell_type": "markdown",
   "metadata": {},
   "source": [
    "![image.png](attachment:image.png)"
   ]
  },
  {
   "cell_type": "code",
   "execution_count": 15,
   "metadata": {},
   "outputs": [],
   "source": [
    "class My_DQN_Agent():\n",
    "    def __init__(self, state_size, action_size):\n",
    "        \n",
    "        self.state_size = state_size\n",
    "        self.action_size = action_size\n",
    "        \n",
    "        self.memory = deque(maxlen=2000)\n",
    "        \n",
    "        self.e = 1.000\n",
    "        self.e_decay = 0.999\n",
    "        self.e_min = 0.001\n",
    "        \n",
    "        self.learning_rate = 0.01\n",
    "        self.discount_rate = 0.90\n",
    "        \n",
    "        self.model = self.build_model()\n",
    "        \n",
    "    def build_model(self):\n",
    "        \n",
    "        model = Sequential()\n",
    "        \n",
    "        model.add(Dense(16, input_dim=self.state_size, activation='relu'))\n",
    "        model.add(Dense(16, activation='relu'))\n",
    "        model.add(Dense(self.action_size, activation='linear'))\n",
    "        \n",
    "        model.compile(loss = \"mse\", optimizer = Adam(lr=self.learning_rate))\n",
    "        \n",
    "        return model\n",
    "    \n",
    "    def remember(self, state, action, reward, next_state, done):\n",
    "        self.memory.append((state, action, reward, next_state, done))\n",
    "    \n",
    "    def select_action(self, state):\n",
    "        # Pick random Action if rand less than epsilon\n",
    "        if np.random.rand() <= self.e:\n",
    "            return np.random.randint(0,self.action_size)\n",
    "        \n",
    "        # Otherwise, use the current best options as action\n",
    "        \n",
    "        all_q_values = self.model.predict(state)\n",
    "        return np.argmax(all_q_values[0])\n",
    "    \n",
    "    def replay(self, batch_size):\n",
    "        \n",
    "        #This will take (batch_size) number of (self.memory) as a mini_batch\n",
    "        minibatch = random.sample(self.memory, batch_size)\n",
    "        \n",
    "        for state, action, reward, next_state, done in minibatch:\n",
    "            if done:\n",
    "                # if it has terminate, reward is just the final reward.\n",
    "                target = reward\n",
    "            else:\n",
    "                # if it has next_state, use the bellman equation to calculate the reward\n",
    "                \n",
    "                target = reward + self.discount_rate * np.max(self.model.predict(next_state)[0])\n",
    "            \n",
    "            # Now I replay this piece on memory, get the result, then adjust it\n",
    "            result = self.model.predict(state)\n",
    "            result[0][action] = target\n",
    "            \n",
    "            self.model.fit(state, result, epochs=1, verbose=0)\n",
    "        \n",
    "        if self.e > self.e_min:\n",
    "            self.e *= self.e_decay\n",
    "    \n",
    "    def load(self, name):\n",
    "        self.model.load_weights(name)\n",
    "    \n",
    "    def save(self, name):\n",
    "        self.model.save_weights(name)\n",
    "        \n",
    "    \n",
    "        \n",
    "            "
   ]
  },
  {
   "cell_type": "code",
   "execution_count": null,
   "metadata": {},
   "outputs": [
    {
     "name": "stdout",
     "output_type": "stream",
     "text": [
      "Episode: 0/2000 | epsilon = 0.99 | score = 22 | Total Reward = 12.0\n",
      "Episode: 1/2000 | epsilon = 0.99 | score = 9 | Total Reward = -1.0\n",
      "Episode: 2/2000 | epsilon = 0.96 | score = 25 | Total Reward = 15.0\n",
      "Episode: 3/2000 | epsilon = 0.93 | score = 29 | Total Reward = 19.0\n",
      "Episode: 4/2000 | epsilon = 0.92 | score = 17 | Total Reward = 7.0\n",
      "Episode: 5/2000 | epsilon = 0.90 | score = 14 | Total Reward = 4.0\n",
      "Episode: 6/2000 | epsilon = 0.90 | score = 10 | Total Reward = 0.0\n",
      "Episode: 7/2000 | epsilon = 0.88 | score = 20 | Total Reward = 10.0\n",
      "Episode: 8/2000 | epsilon = 0.87 | score = 7 | Total Reward = -3.0\n",
      "Episode: 9/2000 | epsilon = 0.84 | score = 32 | Total Reward = 22.0\n",
      "Episode: 10/2000 | epsilon = 0.82 | score = 25 | Total Reward = 15.0\n",
      "Episode: 11/2000 | epsilon = 0.80 | score = 28 | Total Reward = 18.0\n",
      "Episode: 12/2000 | epsilon = 0.79 | score = 16 | Total Reward = 6.0\n",
      "Episode: 13/2000 | epsilon = 0.74 | score = 64 | Total Reward = 54.0\n",
      "Episode: 14/2000 | epsilon = 0.73 | score = 19 | Total Reward = 9.0\n",
      "Episode: 15/2000 | epsilon = 0.71 | score = 19 | Total Reward = 9.0\n",
      "Episode: 16/2000 | epsilon = 0.69 | score = 32 | Total Reward = 22.0\n",
      "Episode: 17/2000 | epsilon = 0.67 | score = 23 | Total Reward = 13.0\n",
      "Episode: 18/2000 | epsilon = 0.64 | score = 49 | Total Reward = 39.0\n",
      "Episode: 19/2000 | epsilon = 0.61 | score = 43 | Total Reward = 33.0\n",
      "Episode: 20/2000 | epsilon = 0.57 | score = 68 | Total Reward = 58.0\n",
      "Episode: 21/2000 | epsilon = 0.56 | score = 21 | Total Reward = 11.0\n",
      "Episode: 22/2000 | epsilon = 0.47 | score = 171 | Total Reward = 161.0\n",
      "Episode: 23/2000 | epsilon = 0.42 | score = 130 | Total Reward = 120.0\n",
      "Episode: 24/2000 | epsilon = 0.35 | score = 183 | Total Reward = 173.0\n",
      "Episode: 25/2000 | epsilon = 0.31 | score = 97 | Total Reward = 87.0\n",
      "Episode: 26/2000 | epsilon = 0.30 | score = 57 | Total Reward = 47.0\n",
      "Episode: 27/2000 | epsilon = 0.27 | score = 101 | Total Reward = 91.0\n",
      "Episode: 28/2000 | epsilon = 0.24 | score = 119 | Total Reward = 109.0\n",
      "Episode: 29/2000 | epsilon = 0.23 | score = 53 | Total Reward = 43.0\n",
      "Episode: 30/2000 | epsilon = 0.20 | score = 112 | Total Reward = 102.0\n",
      "Episode: 31/2000 | epsilon = 0.20 | score = 22 | Total Reward = 12.0\n",
      "Episode: 32/2000 | epsilon = 0.18 | score = 74 | Total Reward = 64.0\n",
      "Episode: 33/2000 | epsilon = 0.17 | score = 99 | Total Reward = 89.0\n",
      "Episode: 34/2000 | epsilon = 0.16 | score = 12 | Total Reward = 2.0\n",
      "Episode: 35/2000 | epsilon = 0.16 | score = 25 | Total Reward = 15.0\n",
      "Episode: 36/2000 | epsilon = 0.15 | score = 67 | Total Reward = 57.0\n",
      "Episode: 37/2000 | epsilon = 0.15 | score = 8 | Total Reward = -2.0\n",
      "Episode: 38/2000 | epsilon = 0.15 | score = 10 | Total Reward = 0.0\n",
      "Episode: 39/2000 | epsilon = 0.13 | score = 123 | Total Reward = 113.0\n",
      "Episode: 40/2000 | epsilon = 0.12 | score = 96 | Total Reward = 86.0\n",
      "Episode: 41/2000 | epsilon = 0.10 | score = 122 | Total Reward = 112.0\n",
      "Episode: 42/2000 | epsilon = 0.10 | score = 82 | Total Reward = 72.0\n"
     ]
    }
   ],
   "source": [
    "state_size = env.observation_space.shape[0]\n",
    "action_size = env.action_space.n\n",
    "agent = My_DQN_Agent(state_size,action_size)\n",
    "output_dir = \"Project_Deep_Q_Network_model_output/cart-pole_v1\"\n",
    "\n",
    "\n",
    "done = False\n",
    "n_episodes = 2000\n",
    "batch_size = 16\n",
    "for ep in range(n_episodes):\n",
    "    \n",
    "    state = env.reset()\n",
    "    state = state.reshape(1,state_size)\n",
    "    total_reward = 0\n",
    "    # This is a continous game, it can go forever, so limit it in 5000 time step.\n",
    "    for time_steps in range(5000): \n",
    "        \n",
    "        action = agent.select_action(state)\n",
    "        next_state, reward, done, _= env.step(action)\n",
    "        \n",
    "        reward = reward if not done else -10\n",
    "\n",
    "        next_state = next_state.reshape(1,state_size)\n",
    "        \n",
    "        agent.remember(state, action, reward, next_state, done)\n",
    "        \n",
    "        total_reward += reward\n",
    "        state = next_state\n",
    "        \n",
    "        if done:\n",
    "            # Since we want to see how long can the agent sustain in the game. Time Step is a good measurement.\n",
    "            print(\"Episode: {}/{} | epsilon = {:0.2f} | score = {} | Total Reward = {}\".format(ep, n_episodes, agent.e, time_steps, total_reward))\n",
    "            break\n",
    "        \n",
    "        if len(agent.memory) > batch_size:\n",
    "            agent.replay(batch_size)\n",
    "        \n",
    "\n",
    "        if ep % 50 == 0:\n",
    "            agent.save(output_dir + \"_weights_\" + '{:04d}'.format(ep) + \".hdf5\")"
   ]
  },
  {
   "cell_type": "code",
   "execution_count": null,
   "metadata": {},
   "outputs": [],
   "source": []
  }
 ],
 "metadata": {
  "kernelspec": {
   "display_name": "Python 3",
   "language": "python",
   "name": "python3"
  },
  "language_info": {
   "codemirror_mode": {
    "name": "ipython",
    "version": 3
   },
   "file_extension": ".py",
   "mimetype": "text/x-python",
   "name": "python",
   "nbconvert_exporter": "python",
   "pygments_lexer": "ipython3",
   "version": "3.7.5"
  }
 },
 "nbformat": 4,
 "nbformat_minor": 2
}
